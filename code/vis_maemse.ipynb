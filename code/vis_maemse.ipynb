{
 "cells": [
  {
   "cell_type": "code",
   "execution_count": null,
   "metadata": {},
   "outputs": [],
   "source": [
    "import torch\n",
    "import tqdm\n",
    "import numpy as np\n",
    "from sklearn.manifold import TSNE\n",
    "from torchvision import datasets, models, transforms\n",
    "from vgg_face import *\n",
    "from FAUDataset import *\n",
    "import matplotlib.pyplot as plt"
   ]
  }
 ],
 "metadata": {
  "kernelspec": {
   "display_name": "pytorch",
   "language": "python",
   "name": "python3"
  },
  "language_info": {
   "name": "python",
   "version": "3.10.9"
  },
  "orig_nbformat": 4,
  "vscode": {
   "interpreter": {
    "hash": "3e7f7a855bbc88ec1d9c0c99db775049e00adb9aaa60b96faa3e54c718ce9be8"
   }
  }
 },
 "nbformat": 4,
 "nbformat_minor": 2
}
